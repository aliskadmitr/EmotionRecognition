{
 "cells": [
  {
   "cell_type": "raw",
   "id": "a0f1fd04-9a0b-4b13-876c-444d7a033f37",
   "metadata": {},
   "source": [
    "PLAN\n",
    "1) reading data\n",
    "2) eda\n",
    "2) convert data into correct format for NN\n",
    "3) Research of several NN\n",
    "4) use the best\n",
    "5) coed script"
   ]
  },
  {
   "cell_type": "markdown",
   "id": "cbcce5cc-e993-45b7-bf83-4ef1d5c7e328",
   "metadata": {},
   "source": [
    "### Impot libraries"
   ]
  },
  {
   "cell_type": "code",
   "execution_count": 1,
   "id": "01574cf3-4d4b-4c44-949b-ffb106649253",
   "metadata": {},
   "outputs": [],
   "source": [
    "import pandas as pd\n",
    "import torch\n",
    "import os\n",
    "from PIL import Image\n",
    "import numpy as np\n",
    "import matplotlib.pyplot as plt\n",
    "import seaborn as sns\n",
    "import random\n",
    "from tqdm import tqdm\n",
    "\n",
    "from torch.utils.data import Dataset, DataLoader \n",
    "from torchvision import transforms, models\n",
    "import torch.nn as nn\n",
    "from torchvision.models import vgg19, VGG19_Weights\n",
    "import torch.optim as optim"
   ]
  },
  {
   "cell_type": "markdown",
   "id": "413e30d4-ae37-41b2-b1a5-31e8348881af",
   "metadata": {},
   "source": [
    "### Reading data"
   ]
  },
  {
   "cell_type": "code",
   "execution_count": 2,
   "id": "3a7e2819-5def-412f-8614-af549d1063ee",
   "metadata": {},
   "outputs": [
    {
     "name": "stderr",
     "output_type": "stream",
     "text": [
      "/home/alisadmitr/.local/lib/python3.10/site-packages/tqdm/auto.py:21: TqdmWarning: IProgress not found. Please update jupyter and ipywidgets. See https://ipywidgets.readthedocs.io/en/stable/user_install.html\n",
      "  from .autonotebook import tqdm as notebook_tqdm\n"
     ]
    },
    {
     "name": "stdout",
     "output_type": "stream",
     "text": [
      "Path to dataset files: /home/alisadmitr/.cache/kagglehub/datasets/astraszab/facial-expression-dataset-image-folders-fer2013/versions/1\n"
     ]
    }
   ],
   "source": [
    "import kagglehub\n",
    "\n",
    "path = kagglehub.dataset_download(\"astraszab/facial-expression-dataset-image-folders-fer2013\")\n",
    "\n",
    "print(\"Path to dataset files:\", path)"
   ]
  },
  {
   "cell_type": "code",
   "execution_count": 3,
   "id": "01a223e5-e161-4ab3-846f-34d5fbe21429",
   "metadata": {},
   "outputs": [
    {
     "name": "stdout",
     "output_type": "stream",
     "text": [
      "In '/home/alisadmitr/.cache/kagglehub/datasets/astraszab/facial-expression-dataset-image-folders-fer2013/versions/1/data':\n",
      "Directories: ['train', 'test', 'val']\n",
      "Files: []\n"
     ]
    }
   ],
   "source": [
    "data_dir = os.path.join(path, 'data')\n",
    "if os.path.exists(data_dir):\n",
    "    for root, dirs, files in os.walk(data_dir):\n",
    "        print(f\"In '{root}':\")\n",
    "        print(\"Directories:\", dirs)\n",
    "        print(\"Files:\", files)\n",
    "        break\n",
    "else:\n",
    "    print(\"Подкаталог 'data' не найден.\")\n"
   ]
  },
  {
   "cell_type": "code",
   "execution_count": 4,
   "id": "2f9eec29-af3a-4598-ac8b-4df87676107f",
   "metadata": {},
   "outputs": [],
   "source": [
    "class ImageDataset(Dataset):\n",
    "    def __init__(self, data_dir=None, folder=None, transform=None, images=None, labels=None):\n",
    "        self.transform = transform\n",
    "        self.image_paths = []\n",
    "        self.labels = []\n",
    "        \n",
    "        if images is not None and labels is not None:\n",
    "            self.image_paths = images\n",
    "            self.labels = np.array(labels)\n",
    "        else:\n",
    "            folder_dir = os.path.join(data_dir, folder)\n",
    "            for class_folder in os.listdir(folder_dir):\n",
    "                class_path = os.path.join(folder_dir, class_folder)\n",
    "                if os.path.isdir(class_path): \n",
    "                    for filename in os.listdir(class_path):\n",
    "                        if filename.endswith(\".jpg\") or filename.endswith(\".png\"): \n",
    "                            path = os.path.join(class_path, filename)\n",
    "                            if os.path.isfile(path):\n",
    "                                self.image_paths.append(path)\n",
    "                                self.labels.append(int(class_folder))\n",
    "            self.labels = np.array(self.labels)\n",
    "            \n",
    "    def __len__(self):\n",
    "        return len(self.image_paths)\n",
    "\n",
    "    def __getitem__(self, idx):\n",
    "        image = self.image_paths[idx]\n",
    "        \n",
    "        if isinstance(image, str): \n",
    "            image = Image.open(image).convert('RGB')\n",
    "        \n",
    "        label = self.labels[idx]\n",
    "\n",
    "        if self.transform:\n",
    "            image = self.transform(image)\n",
    "\n",
    "        return image, torch.tensor(label).long()"
   ]
  },
  {
   "cell_type": "code",
   "execution_count": 5,
   "id": "400675fd-4b08-47c2-b711-a1b46010db97",
   "metadata": {},
   "outputs": [],
   "source": [
    "train_dataset = ImageDataset(data_dir, folder='train', transform=None)\n",
    "val_dataset = ImageDataset(data_dir, folder='val', transform=None)\n",
    "test_dataset = ImageDataset(data_dir, folder='test', transform=None)"
   ]
  },
  {
   "cell_type": "code",
   "execution_count": 6,
   "id": "0b708944-afa6-4754-878c-b83ff47cb08c",
   "metadata": {},
   "outputs": [
    {
     "name": "stdout",
     "output_type": "stream",
     "text": [
      "Unique train labels: [0 1 2 3 4 5 6]\n",
      "train size: 28709\n",
      "Unique validation labels: [0 1 2 3 4 5 6]\n",
      "val size: 3589\n",
      "Unique test labels: [0 1 2 3 4 5 6]\n",
      "test size: 3589\n"
     ]
    }
   ],
   "source": [
    "unique_train_labels = np.unique(train_dataset.labels)\n",
    "unique_val_labels = np.unique(val_dataset.labels)\n",
    "unique_test_labels = np.unique(test_dataset.labels)\n",
    "\n",
    "print(\"Unique train labels:\", unique_train_labels)\n",
    "print(\"train size:\", len(train_dataset))\n",
    "print(\"Unique validation labels:\", unique_val_labels)\n",
    "print(\"val size:\", len(val_dataset))\n",
    "print(\"Unique test labels:\", unique_test_labels)\n",
    "print(\"test size:\", len(test_dataset))"
   ]
  },
  {
   "cell_type": "code",
   "execution_count": 7,
   "id": "cb7052d0-4483-465f-b736-c8db68d195a5",
   "metadata": {},
   "outputs": [],
   "source": [
    "def eval_data(data_dir, folder, sample_number, transform=None):\n",
    "    if transform is None:\n",
    "        train_transforms = transforms.Compose([\n",
    "            transforms.RandomResizedCrop(224),\n",
    "            transforms.RandomHorizontalFlip(),\n",
    "            transforms.ColorJitter(brightness=0.2, contrast=0.2, saturation=0.2, hue=0.1),\n",
    "            transforms.ToTensor(),\n",
    "            transforms.Normalize(mean=[0.485, 0.456, 0.406], std=[0.229, 0.224, 0.225])\n",
    "        ])\n",
    "\n",
    "        val_test_transforms = transforms.Compose([\n",
    "            transforms.Resize(256),\n",
    "            transforms.CenterCrop(224),\n",
    "            transforms.ToTensor(),\n",
    "            transforms.Normalize(mean=[0.485, 0.456, 0.406], std=[0.229, 0.224, 0.225])\n",
    "        ])\n",
    "        \n",
    "    dataset = ImageDataset(data_dir=data_dir, folder=folder, transform=transform)\n",
    "    image, label = dataset[sample_number]\n",
    "    \n",
    "    if isinstance(image, torch.Tensor):\n",
    "        image_np = image.permute(1, 2, 0).numpy()  # Convert CxHxW to HxWxC\n",
    "        image_np = (image_np * 0.5 + 0.5).clip(0, 1) \n",
    "    else:\n",
    "        image_np = image \n",
    "\n",
    "    print('Label: ', label.item())\n",
    "    plt.imshow(image_np)\n",
    "    plt.axis('off')\n",
    "    plt.show()\n"
   ]
  },
  {
   "cell_type": "code",
   "execution_count": 8,
   "id": "bdc8d26c-f61e-4216-92d5-266c57d7844e",
   "metadata": {},
   "outputs": [
    {
     "name": "stdout",
     "output_type": "stream",
     "text": [
      "Label:  3\n"
     ]
    },
    {
     "data": {
      "image/png": "[encoded data removed]",
      "text/plain": [
       "<Figure size 640x480 with 1 Axes>"
      ]
     },
     "metadata": {},
     "output_type": "display_data"
    }
   ],
   "source": [
    "eval_data(data_dir, folder='train', sample_number=1)"
   ]
  },
  {
   "cell_type": "markdown",
   "id": "4f4b821d-5bfa-4619-afb0-f6bc2e38544b",
   "metadata": {},
   "source": [
    "### Distribution of classes"
   ]
  },
  {
   "cell_type": "code",
   "execution_count": 9,
   "id": "2c3912d6-ddf1-4f96-bf6e-a4ac49971355",
   "metadata": {},
   "outputs": [],
   "source": [
    "from collections import Counter\n",
    "\n",
    "def show_distribution(dataset):\n",
    "\n",
    "    sns.set(style=\"whitegrid\")\n",
    "    \n",
    "    labels = dataset.labels\n",
    "    class_counts = Counter(labels)\n",
    "    \n",
    "    plt.figure(figsize=(12, 7))\n",
    "    bars = plt.bar(class_counts.keys(), class_counts.values(), color=sns.color_palette(\"viridis\", len(class_counts)), edgecolor='black')\n",
    "    \n",
    "    for bar in bars:\n",
    "        yval = bar.get_height()\n",
    "        plt.text(bar.get_x() + bar.get_width() / 2, yval + 0.5, int(yval), ha='center', va='bottom', fontsize=12)\n",
    "    \n",
    "    \n",
    "    plt.xlabel('Class Labels', fontsize=14, fontweight='bold')\n",
    "    plt.ylabel('Frequency', fontsize=14, fontweight='bold')\n",
    "    plt.title(f'Class Distribution in Dataset', fontsize=16, fontweight='bold')\n",
    "    plt.xticks(fontsize=12)\n",
    "    plt.yticks(fontsize=12)\n",
    "    plt.show()\n"
   ]
  },
  {
   "cell_type": "code",
   "execution_count": 10,
   "id": "d9ef2f2b-b8fd-4f03-b20b-04197c6296a8",
   "metadata": {},
   "outputs": [
    {
     "name": "stdout",
     "output_type": "stream",
     "text": [
      "For Train dataset: \n"
     ]
    },
    {
     "data": {
      "image/png": "[encoded data removed]",
      "text/plain": [
       "<Figure size 1200x700 with 1 Axes>"
      ]
     },
     "metadata": {},
     "output_type": "display_data"
    }
   ],
   "source": [
    "print(\"For Train dataset: \")\n",
    "show_distribution(train_dataset)"
   ]
  },
  {
   "cell_type": "raw",
   "id": "0cac54c8-c5c1-4abf-a8ed-4f27a21e1671",
   "metadata": {},
   "source": [
    "there is an imbalance of classes that needs to be leveled"
   ]
  },
  {
   "cell_type": "markdown",
   "id": "aabb7103-bf41-4b35-9040-c6d6d13bde27",
   "metadata": {},
   "source": [
    "### Generate data"
   ]
  },
  {
   "cell_type": "code",
   "execution_count": 11,
   "id": "dd3f32e2-10f1-44b5-9b6e-343c2bf914e0",
   "metadata": {},
   "outputs": [],
   "source": [
    "def augment_small_classes(dataset, target_classes, target_size, augmentation_transform):\n",
    "    augmented_images = []\n",
    "    augmented_labels = []\n",
    "\n",
    "    for class_label in target_classes:\n",
    "        class_indices = [i for i, label in enumerate(dataset.labels) if label == class_label]\n",
    "        \n",
    "        while len(class_indices) < target_size:\n",
    "            idx = random.choice(class_indices)\n",
    "            image, label = dataset[idx]\n",
    "            \n",
    "            augmented_image = augmentation_transform(image)\n",
    "            augmented_images.append(augmented_image)\n",
    "            augmented_labels.append(label)\n",
    "            \n",
    "\n",
    "            class_indices.append(idx)\n",
    "\n",
    "    return augmented_images, augmented_labels"
   ]
  },
  {
   "cell_type": "code",
   "execution_count": 12,
   "id": "47a97fdc-a843-44e6-8c3e-21703bb5230a",
   "metadata": {},
   "outputs": [],
   "source": [
    "target_classes = [0, 1, 2, 4, 5, 6]  \n",
    "target_size = 7000\n",
    "\n",
    "augmentation_transform = transforms.Compose([\n",
    "    transforms.RandomHorizontalFlip(),\n",
    "    transforms.RandomRotation(10),\n",
    "    transforms.ColorJitter(brightness=0.2, contrast=0.2),\n",
    "    transforms.RandomResizedCrop(size=(48, 48), scale=(0.8, 1.0)),\n",
    "    transforms.ToTensor()\n",
    "])\n",
    "\n",
    "\n",
    "augmented_images, augmented_labels = augment_small_classes(train_dataset, target_classes, target_size, augmentation_transform)"
   ]
  },
  {
   "cell_type": "code",
   "execution_count": 13,
   "id": "acfd4c4e-cb1d-4661-8d54-9cc4f927601a",
   "metadata": {},
   "outputs": [],
   "source": [
    "augmented_images_pil = [transforms.ToPILImage()(img) for img in augmented_images]\n",
    "\n",
    "all_images = train_dataset.image_paths + augmented_images_pil\n",
    "all_labels = list(train_dataset.labels) + augmented_labels\n",
    "\n",
    "train_transforms = transforms.Compose([\n",
    "            transforms.RandomResizedCrop(224),\n",
    "            transforms.RandomHorizontalFlip(),\n",
    "            transforms.ColorJitter(brightness=0.2, contrast=0.2, saturation=0.2, hue=0.1),\n",
    "            transforms.ToTensor(),\n",
    "            transforms.Normalize(mean=[0.485, 0.456, 0.406], std=[0.229, 0.224, 0.225])\n",
    "        ])\n",
    "\n",
    "train_aug_dataset = ImageDataset(data_dir=None, folder=None, images=all_images, labels=all_labels, transform=train_transforms)"
   ]
  },
  {
   "cell_type": "code",
   "execution_count": 14,
   "id": "bb2b4691-0f1d-49e6-b79e-0b7afa0b8376",
   "metadata": {},
   "outputs": [],
   "source": [
    "# all_images = train_dataset.image_paths + [transforms.ToPILImage()(img) for img in augmented_images]\n",
    "# all_labels = list(train_dataset.labels) + augmented_labels\n",
    "\n",
    "# train_aug_dataset = ImageDataset(data_dir=None, folder=None, images=all_images, labels=all_labels, transform=train_dataset.transform)\n"
   ]
  },
  {
   "cell_type": "code",
   "execution_count": 15,
   "id": "9def445e-23e1-4953-9724-631ec4f8c7be",
   "metadata": {},
   "outputs": [
    {
     "name": "stdout",
     "output_type": "stream",
     "text": [
      "For Train dataset with augmentation: \n"
     ]
    },
    {
     "data": {
      "image/png": "[encoded data removed]",
      "text/plain": [
       "<Figure size 1200x700 with 1 Axes>"
      ]
     },
     "metadata": {},
     "output_type": "display_data"
    }
   ],
   "source": [
    "print(\"For Train dataset with augmentation: \")\n",
    "show_distribution(train_aug_dataset)"
   ]
  },
  {
   "cell_type": "markdown",
   "id": "8fe76ffd-2c86-4a07-ac44-d0848d20a8ad",
   "metadata": {},
   "source": [
    "## Classificators"
   ]
  },
  {
   "cell_type": "markdown",
   "id": "8027d810-6859-4b85-8312-d82494390fd1",
   "metadata": {},
   "source": [
    "### VGG-19"
   ]
  },
  {
   "cell_type": "code",
   "execution_count": 16,
   "id": "d73416cf-07c0-404d-bc5b-480058131b6f",
   "metadata": {},
   "outputs": [],
   "source": [
    "BATCH_SIZE = 32\n",
    "NUM_EPOCHS = 15"
   ]
  },
  {
   "cell_type": "code",
   "execution_count": 17,
   "id": "7be2f757-8236-4b2b-ba16-254b7f4f3169",
   "metadata": {},
   "outputs": [],
   "source": [
    "train_loader = DataLoader(train_aug_dataset, batch_size=32, shuffle=True)\n",
    "val_loader = DataLoader(val_dataset, batch_size=32, shuffle=False)\n",
    "test_loader = DataLoader(test_dataset, batch_size=32, shuffle=False)"
   ]
  },
  {
   "cell_type": "code",
   "execution_count": 18,
   "id": "038ce874-bc02-4417-8e42-57364ebcb86c",
   "metadata": {},
   "outputs": [
    {
     "name": "stdout",
     "output_type": "stream",
     "text": [
      "True\n"
     ]
    }
   ],
   "source": [
    "print(torch.cuda.is_available())"
   ]
  },
  {
   "cell_type": "code",
   "execution_count": 19,
   "id": "e2a27a23-c88d-48e8-a099-6547b28691e5",
   "metadata": {},
   "outputs": [],
   "source": [
    "vgg_19 = vgg19(weights=VGG19_Weights.DEFAULT)\n",
    "\n",
    "for param in vgg_19.parameters():\n",
    "    param.requires_grad = False"
   ]
  },
  {
   "cell_type": "code",
   "execution_count": 20,
   "id": "0ab9bc06-0cd9-4e6e-a40e-0cec14734bb6",
   "metadata": {},
   "outputs": [],
   "source": [
    "num_classes = len(set(train_aug_dataset.labels))\n",
    "\n",
    "vgg_19.classifier[6] = nn.Linear(4096, num_classes)\n",
    "vgg_19 = vgg_19.to('cuda' if torch.cuda.is_available() else 'cpu')\n",
    "\n",
    "loss_func = nn.CrossEntropyLoss()\n",
    "optimizer = optim.Adam(vgg_19.classifier[6].parameters(), lr=0.001)"
   ]
  },
  {
   "cell_type": "code",
   "execution_count": null,
   "id": "5755b582-c137-41c6-a5a3-c9e941b3c1dc",
   "metadata": {},
   "outputs": [],
   "source": [
    "# def train(model, train_loader, criterion, optimizer, epoch):\n",
    "#     model.train()\n",
    "#     running_loss = 0.0\n",
    "\n",
    "#     for images, labels in tqdm(train_loader, desc=f\"Epoch {epoch}\", unit=\"batch\"):\n",
    "#         images, labels = images.to(device), labels.to(device)\n",
    "        \n",
    "#         optimizer.zero_grad()\n",
    "#         outputs = model(images)\n",
    "#         loss = criterion(outputs, labels)\n",
    "#         loss.backward()\n",
    "#         optimizer.step()\n",
    "        \n",
    "#         running_loss += loss.item()\n",
    "    \n",
    "#     avg_loss = running_loss / len(train_loader)\n",
    "#     print(f\"Training loss: {avg_loss:.4f}\")"
   ]
  },
  {
   "cell_type": "code",
   "execution_count": 21,
   "id": "ae9f487f-5023-4090-be09-d677b6978f64",
   "metadata": {},
   "outputs": [],
   "source": [
    "def train(model, train_loader, criterion, optimizer, num_epochs, device):\n",
    "    model.to(device)\n",
    "    train_loss_list = []\n",
    "    train_acc_list = []\n",
    "    \n",
    "    for epoch in range(num_epochs):\n",
    "        model.train()\n",
    "        running_loss = 0.0\n",
    "        correct = 0\n",
    "        total = 0\n",
    "\n",
    "        for images, labels in tqdm(train_loader, desc=f\"Epoch {epoch+1}/{num_epochs}\", unit=\"batch\"):\n",
    "            images, labels = images.to(device), labels.to(device)\n",
    "            optimizer.zero_grad()\n",
    "            outputs = model(images)\n",
    "            loss = criterion(outputs, labels)\n",
    "            loss.backward()\n",
    "            optimizer.step()\n",
    "            running_loss += loss.item()\n",
    "\n",
    "            _, predicted = torch.max(outputs.data, 1)\n",
    "            total += labels.size(0)\n",
    "            correct += (predicted == labels).sum().item()\n",
    "\n",
    "        avg_loss = running_loss / len(train_loader)\n",
    "        accuracy = 100 * correct / total\n",
    "\n",
    "        train_loss_list.append(avg_loss)\n",
    "        train_acc_list.append(accuracy)\n",
    "\n",
    "        print(f'Epoch [{epoch+1}/{num_epochs}], Loss: {avg_loss:.4f}, Accuracy: {accuracy:.2f}%')\n",
    "\n",
    "    return train_loss_list, train_acc_list"
   ]
  },
  {
   "cell_type": "code",
   "execution_count": null,
   "id": "7cff5e1c-bdfc-4c96-939e-6cdc52929134",
   "metadata": {},
   "outputs": [
    {
     "name": "stderr",
     "output_type": "stream",
     "text": [
      "Epoch 1/15: 100%|█████████████████████████████████████████| 1538/1538 [32:11<00:00,  1.26s/batch]\n"
     ]
    },
    {
     "name": "stdout",
     "output_type": "stream",
     "text": [
      "Epoch [1/15], Loss: 1.8743, Accuracy: 27.64%\n"
     ]
    },
    {
     "name": "stderr",
     "output_type": "stream",
     "text": [
      "Epoch 2/15: 100%|████████████████████████| 1538/1538 [30:50<00:00,  1.20s/batch]\n"
     ]
    },
    {
     "name": "stdout",
     "output_type": "stream",
     "text": [
      "Epoch [2/15], Loss: 1.8940, Accuracy: 28.21%\n"
     ]
    },
    {
     "name": "stderr",
     "output_type": "stream",
     "text": [
      "Epoch 3/15:  70%|████████████████▋       | 1071/1538 [21:25<09:20,  1.20s/batch]"
     ]
    }
   ],
   "source": [
    "device = torch.device(\"cuda\" if torch.cuda.is_available() else \"cpu\")\n",
    "train_loss, train_accuracy = train(vgg_19, train_loader, loss_func, optimizer, NUM_EPOCHS, device)"
   ]
  },
  {
   "cell_type": "code",
   "execution_count": 64,
   "id": "51bbc67e-47a5-49f0-a414-fded08e1b857",
   "metadata": {},
   "outputs": [
    {
     "ename": "NameError",
     "evalue": "name 'с' is not defined",
     "output_type": "error",
     "traceback": [
      "\u001b[0;31m---------------------------------------------------------------------------\u001b[0m",
      "\u001b[0;31mNameError\u001b[0m                                 Traceback (most recent call last)",
      "Cell \u001b[0;32mIn[64], line 1\u001b[0m\n\u001b[0;32m----> 1\u001b[0m epochs_range \u001b[38;5;241m=\u001b[39m \u001b[38;5;28mrange\u001b[39m(\u001b[38;5;241m1\u001b[39m, \u001b[43mс\u001b[49m \u001b[38;5;241m+\u001b[39m \u001b[38;5;241m1\u001b[39m)\n\u001b[1;32m      2\u001b[0m plt\u001b[38;5;241m.\u001b[39mfigure(figsize\u001b[38;5;241m=\u001b[39m(\u001b[38;5;241m12\u001b[39m, \u001b[38;5;241m4\u001b[39m))\n\u001b[1;32m      4\u001b[0m plt\u001b[38;5;241m.\u001b[39msubplot(\u001b[38;5;241m1\u001b[39m, \u001b[38;5;241m2\u001b[39m, \u001b[38;5;241m1\u001b[39m)\n",
      "\u001b[0;31mNameError\u001b[0m: name 'с' is not defined"
     ]
    }
   ],
   "source": [
    "epochs_range = range(1, NUM_EPOCHS + 1)\n",
    "plt.figure(figsize=(12, 4))\n",
    "\n",
    "plt.subplot(1, 2, 1)\n",
    "plt.plot(epochs_range, train_loss, label=\"Training Loss\")\n",
    "plt.xlabel(\"Epochs\")\n",
    "plt.ylabel(\"Loss\")\n",
    "plt.title(\"Training Loss\")\n",
    "plt.legend()\n",
    "\n",
    "plt.subplot(1, 2, 2)\n",
    "plt.plot(epochs_range, train_accuracy, label=\"Training Accuracy\")\n",
    "plt.xlabel(\"Epochs\")\n",
    "plt.ylabel(\"Accuracy (%)\")\n",
    "plt.title(\"Training Accuracy\")\n",
    "plt.legend()\n",
    "\n",
    "plt.show()"
   ]
  },
  {
   "cell_type": "code",
   "execution_count": null,
   "id": "63a04dc8-f692-4538-8920-da3120fdf8fe",
   "metadata": {},
   "outputs": [],
   "source": []
  }
 ],
 "metadata": {
  "kernelspec": {
   "display_name": "Python 3 (ipykernel)",
   "language": "python",
   "name": "python3"
  },
  "language_info": {
   "codemirror_mode": {
    "name": "ipython",
    "version": 3
   },
   "file_extension": ".py",
   "mimetype": "text/x-python",
   "name": "python",
   "nbconvert_exporter": "python",
   "pygments_lexer": "ipython3",
   "version": "3.10.12"
  }
 },
 "nbformat": 4,
 "nbformat_minor": 5
}
